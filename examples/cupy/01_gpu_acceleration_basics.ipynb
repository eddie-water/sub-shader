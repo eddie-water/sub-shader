{
 "cells": [
  {
   "cell_type": "markdown",
   "metadata": {},
   "source": [
    "# GPU Acceleration Basics 01\n",
    "This notebook follows the video Python CUDA Installation & CUPY | GPU Acceleration Basics 01 by Rounak Paul found on YouTube."
   ]
  },
  {
   "cell_type": "code",
   "execution_count": 2,
   "metadata": {},
   "outputs": [],
   "source": [
    "import numpy as np\n",
    "import cupy as cp"
   ]
  },
  {
   "cell_type": "code",
   "execution_count": 8,
   "metadata": {},
   "outputs": [
    {
     "data": {
      "text/plain": [
       "numpy.ndarray"
      ]
     },
     "execution_count": 8,
     "metadata": {},
     "output_type": "execute_result"
    }
   ],
   "source": [
    "# array on host memory\n",
    "x_host = np.array([1, 2, 3])\n",
    "type(x_host)"
   ]
  },
  {
   "cell_type": "code",
   "execution_count": 9,
   "metadata": {},
   "outputs": [
    {
     "data": {
      "text/plain": [
       "cupy.ndarray"
      ]
     },
     "execution_count": 9,
     "metadata": {},
     "output_type": "execute_result"
    }
   ],
   "source": [
    "# array on device memory\n",
    "x_dev = cp.array([1, 2, 3])\n",
    "type(x_dev)"
   ]
  },
  {
   "cell_type": "code",
   "execution_count": 10,
   "metadata": {},
   "outputs": [
    {
     "name": "stdout",
     "output_type": "stream",
     "text": [
      "1.14 μs ± 7.69 ns per loop (mean ± std. dev. of 7 runs, 1,000,000 loops each)\n"
     ]
    }
   ],
   "source": [
    "%%timeit\n",
    "np.linalg.norm(x_host)"
   ]
  },
  {
   "cell_type": "code",
   "execution_count": 11,
   "metadata": {},
   "outputs": [
    {
     "name": "stdout",
     "output_type": "stream",
     "text": [
      "The slowest run took 6.95 times longer than the fastest. This could mean that an intermediate result is being cached.\n",
      "53.2 μs ± 57 μs per loop (mean ± std. dev. of 7 runs, 1 loop each)\n"
     ]
    }
   ],
   "source": [
    "%%timeit\n",
    "cp.linalg.norm(x_dev)"
   ]
  },
  {
   "cell_type": "markdown",
   "metadata": {},
   "source": [
    "# Why is GPU so much slower than CPU?\n",
    "He called it the \"Acceleration Tax\". Data transfer is not the main concern here. Our data x_dev is already being stored in the device memory. \n",
    "\n",
    "He mentions a metaphor of a race car (CPU) vs a bus (GPU). The clocks of a CPU vs GPU is something like 5 Ghz vs 1.5 GHz. When the task is small and simple enough, the CPU will always beat the GPU."
   ]
  },
  {
   "cell_type": "code",
   "execution_count": 8,
   "metadata": {},
   "outputs": [
    {
     "name": "stdout",
     "output_type": "stream",
     "text": [
      "GPU 0: NVIDIA GeForce RTX 4060 Ti\n"
     ]
    }
   ],
   "source": [
    "# List all of the GPUs I have access to:\n",
    "num_gpus = cp.cuda.runtime.getDeviceCount()\n",
    "\n",
    "for i in range(num_gpus):\n",
    "    props = cp.cuda.runtime.getDeviceProperties(i)\n",
    "    print(f\"GPU {i}: {props['name'].decode()}\")\n",
    "\n",
    "# Select which GPU you want to put the CuPy array\n",
    "with cp.cuda.Device(0):\n",
    "    x_on_device_0 = cp.array([1, 2, 3, 4, 5])\n"
   ]
  },
  {
   "cell_type": "code",
   "execution_count": null,
   "metadata": {},
   "outputs": [],
   "source": [
    "# Create NumPy array on host\n",
    "x_host = np.random.randint(0, 255, (20000, 20000))"
   ]
  }
 ],
 "metadata": {
  "kernelspec": {
   "display_name": "env",
   "language": "python",
   "name": "python3"
  },
  "language_info": {
   "codemirror_mode": {
    "name": "ipython",
    "version": 3
   },
   "file_extension": ".py",
   "mimetype": "text/x-python",
   "name": "python",
   "nbconvert_exporter": "python",
   "pygments_lexer": "ipython3",
   "version": "3.12.3"
  }
 },
 "nbformat": 4,
 "nbformat_minor": 2
}
